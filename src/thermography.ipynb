{
 "cells": [
  {
   "cell_type": "markdown",
   "metadata": {},
   "source": [
    "# Breast cancer detection from thermal imaging"
   ]
  },
  {
   "cell_type": "markdown",
   "metadata": {},
   "source": [
    "The main purpose of this project is to develop a comprehensive decision support system for breast cancer screening."
   ]
  },
  {
   "cell_type": "markdown",
   "metadata": {},
   "source": [
    "## Library import\n",
    "In this section, the libraries that will be used throughout this model will be imported. Keep in mind that part of the libraries used by this program are declared in the files found in `src/scripts/*.py`."
   ]
  },
  {
   "cell_type": "code",
   "execution_count": null,
   "metadata": {},
   "outputs": [],
   "source": [
    "# Modules are reloaded automatically before entering the execution of code throughout this notebook\n",
    "%reload_ext autoreload\n",
    "%autoreload 2"
   ]
  },
  {
   "cell_type": "code",
   "execution_count": null,
   "metadata": {},
   "outputs": [],
   "source": [
    "from scripts import *"
   ]
  },
  {
   "cell_type": "code",
   "execution_count": null,
   "metadata": {},
   "outputs": [],
   "source": [
    "computer.check_available_devices(ignore=True) # Check available devices"
   ]
  },
  {
   "cell_type": "markdown",
   "metadata": {},
   "source": [
    "## Data selection\n",
    "To make this model work correctly it will be necessary to extract and save the images found in the `data` folder.\n",
    "\n",
    "In this folder there are two labeled folders that contain all the images to be used:\n",
    "```\n",
    "data\n",
    "├── healthy\n",
    "└── sick\n",
    "```"
   ]
  },
  {
   "cell_type": "code",
   "execution_count": null,
   "metadata": {},
   "outputs": [],
   "source": [
    "data_path = \"./data/\"\n",
    "output_path = \"./output/\"\n",
    "random_state = 42"
   ]
  },
  {
   "cell_type": "code",
   "execution_count": null,
   "metadata": {},
   "outputs": [],
   "source": [
    "data = Data(data_path) # Data imported into a table\n",
    "\n",
    "data.images.head(3) # Display first 3 rows"
   ]
  },
  {
   "cell_type": "markdown",
   "metadata": {},
   "source": [
    "## Transformation\n",
    "In the transformation stage, the data is adapted to find the solution to the problem to be solved."
   ]
  },
  {
   "cell_type": "markdown",
   "metadata": {},
   "source": [
    "First of all, the data obtained previously will be divided to be able to use it for training and to check the results."
   ]
  },
  {
   "cell_type": "code",
   "execution_count": null,
   "metadata": {},
   "outputs": [],
   "source": [
    "data.training, data.test = data.train_test_split(test_size=0.15, random_state=random_state, stratify=True) # Split data into train and test"
   ]
  },
  {
   "cell_type": "code",
   "execution_count": null,
   "metadata": {},
   "outputs": [],
   "source": [
    "# The category distribution is shown for the original, training, and test data\n",
    "data.count_labels(data.images, \"Original\")\n",
    "data.count_labels(data.training, \"Training\")\n",
    "data.count_labels(data.test, \"Test\")"
   ]
  },
  {
   "cell_type": "markdown",
   "metadata": {},
   "source": [
    "### Creation of generators\n",
    "Once the data is divided, different transformation techniques are applied on it to expand the size of the dataset in real time while training the model. To apply a correct solution to the problem, the training and validation dataset will be divided into k consecutive folds, while the test dataset will remain fixed."
   ]
  },
  {
   "cell_type": "code",
   "execution_count": null,
   "metadata": {},
   "outputs": [],
   "source": [
    "training_validation_generator = data.training_validation_generator(n_splits=5, random_state=random_state) # Generate training and validation generators\n",
    "test_generator = data.test_generator() # Generate test generator"
   ]
  },
  {
   "cell_type": "markdown",
   "metadata": {},
   "source": [
    "### Filter creation\n",
    "Once the necessary generators have been created, the filters are created for their subsequent model training."
   ]
  },
  {
   "cell_type": "code",
   "execution_count": null,
   "metadata": {},
   "outputs": [],
   "source": [
    "# TODO: Apply grid search\n",
    "filters = {\n",
    "\t\"original\": lambda x: x,\n",
    "\t\"red\": lambda x: data.get_image_tensor(x, (330, 0, 0), (360, 255, 255)) + data.get_image_tensor(x, (0, 0, 0), (60, 255, 255)),\n",
    "\t\"green\": lambda x: data.get_image_tensor(x, (60, 0, 0), (130, 255, 255)),\n",
    "\t\"blue\": lambda x: data.get_image_tensor(x, (130, 0, 0), (330, 255, 255))\n",
    "}\n",
    "\n",
    "data.show_images(training_validation_generator[0][0], filters,  size=3, name=\"Training\") # Show some images from the training generator"
   ]
  },
  {
   "cell_type": "markdown",
   "metadata": {},
   "source": [
    "## Data Mining\n",
    "This section seeks to apply techniques that are capable of extracting useful patterns and then evaluate them."
   ]
  },
  {
   "cell_type": "markdown",
   "metadata": {},
   "source": [
    "### Model creation\n",
    "The model to be used for the next training is created."
   ]
  },
  {
   "cell_type": "code",
   "execution_count": 47,
   "metadata": {},
   "outputs": [],
   "source": [
    "red_model = Model(path=f\"./output/state_{random_state}/red/fold_0\", filter=filters[\"red\"]) # Red model creation"
   ]
  },
  {
   "cell_type": "code",
   "execution_count": 48,
   "metadata": {},
   "outputs": [],
   "source": [
    "red_model.compile() # Compile the red model"
   ]
  },
  {
   "cell_type": "markdown",
   "metadata": {},
   "source": [
    "### Model training\n",
    "The created model is trained indicating the times that are going to be used."
   ]
  },
  {
   "cell_type": "code",
   "execution_count": 49,
   "metadata": {},
   "outputs": [
    {
     "name": "stdout",
     "output_type": "stream",
     "text": [
      "Model -> Epoch 5/5 -> Accuracy (Validation): 0.48 (Best: 0.52) -> ./output/state_42/red/fold_0/weights_001.hdf5Training finished in 89.70443677902222 seconds \n",
      "\n",
      "\n"
     ]
    }
   ],
   "source": [
    "red_model.fit(training_validation_generator[0][0], training_validation_generator[0][1], epochs=5, verbose=False)"
   ]
  },
  {
   "cell_type": "markdown",
   "metadata": {},
   "source": [
    "### Model evaluation\n",
    "The trained model is evaluated using the generators created before. In this case, the best weight matrix obtained in the training will be used."
   ]
  },
  {
   "cell_type": "code",
   "execution_count": 53,
   "metadata": {},
   "outputs": [
    {
     "data": {
      "image/png": "[encoded data removed]",
      "text/plain": [
       "<Figure size 432x288 with 2 Axes>"
      ]
     },
     "metadata": {},
     "output_type": "display_data"
    },
    {
     "name": "stdout",
     "output_type": "stream",
     "text": [
      "              precision    recall  f1-score   support\n",
      "\n",
      "           0       0.51      1.00      0.67        67\n",
      "           1       0.00      0.00      0.00        65\n",
      "\n",
      "    accuracy                           0.51       132\n",
      "   macro avg       0.25      0.50      0.34       132\n",
      "weighted avg       0.26      0.51      0.34       132\n",
      "\n",
      "Accuracy: 0.5076\n",
      "Specificity: 1.0\n",
      "Sensitivity: 0.0\n",
      "Precision: nan\n"
     ]
    },
    {
     "name": "stderr",
     "output_type": "stream",
     "text": [
      "c:\\Users\\ferna\\Desktop\\mammo-echo-thermo\\src\\scripts\\Model.py:161: RuntimeWarning: invalid value encountered in true_divide\n",
      "  precision = (TP / float(TP + FP))\n"
     ]
    },
    {
     "data": {
      "image/png": "[encoded data removed]",
      "text/plain": [
       "<Figure size 432x288 with 2 Axes>"
      ]
     },
     "metadata": {},
     "output_type": "display_data"
    },
    {
     "name": "stdout",
     "output_type": "stream",
     "text": [
      "              precision    recall  f1-score   support\n",
      "\n",
      "           0       0.52      1.00      0.68        17\n",
      "           1       0.00      0.00      0.00        16\n",
      "\n",
      "    accuracy                           0.52        33\n",
      "   macro avg       0.26      0.50      0.34        33\n",
      "weighted avg       0.27      0.52      0.35        33\n",
      "\n",
      "Accuracy: 0.5152\n",
      "Specificity: 1.0\n",
      "Sensitivity: 0.0\n",
      "Precision: nan\n"
     ]
    },
    {
     "name": "stderr",
     "output_type": "stream",
     "text": [
      "c:\\Users\\ferna\\Desktop\\mammo-echo-thermo\\src\\scripts\\Model.py:161: RuntimeWarning: invalid value encountered in true_divide\n",
      "  precision = (TP / float(TP + FP))\n"
     ]
    },
    {
     "data": {
      "image/png": "[encoded data removed]",
      "text/plain": [
       "<Figure size 432x288 with 2 Axes>"
      ]
     },
     "metadata": {},
     "output_type": "display_data"
    },
    {
     "name": "stdout",
     "output_type": "stream",
     "text": [
      "              precision    recall  f1-score   support\n",
      "\n",
      "           0       0.50      1.00      0.67        15\n",
      "           1       0.00      0.00      0.00        15\n",
      "\n",
      "    accuracy                           0.50        30\n",
      "   macro avg       0.25      0.50      0.33        30\n",
      "weighted avg       0.25      0.50      0.33        30\n",
      "\n",
      "Accuracy: 0.5\n",
      "Specificity: 1.0\n",
      "Sensitivity: 0.0\n",
      "Precision: nan\n"
     ]
    },
    {
     "name": "stderr",
     "output_type": "stream",
     "text": [
      "c:\\Users\\ferna\\Desktop\\mammo-echo-thermo\\src\\scripts\\Model.py:161: RuntimeWarning: invalid value encountered in true_divide\n",
      "  precision = (TP / float(TP + FP))\n"
     ]
    }
   ],
   "source": [
    "red_model.evaluate(training_validation_generator[0][0], title=\"train_generator\", path=None) # Evaluate the red model\n",
    "red_model.evaluate(training_validation_generator[0][1], title=\"validation_generator\", path=None) # Evaluate the red model\n",
    "red_model.evaluate(test_generator, title=\"test_generator\", path=None) # Evaluate the red model"
   ]
  },
  {
   "cell_type": "markdown",
   "metadata": {},
   "source": [
    "### Obtaining the weighted average\n",
    "\n",
    "The three models extracted above are combined to obtain, through the use of differential evolution, the optimal distribution of weights to obtain a future prediction."
   ]
  },
  {
   "cell_type": "code",
   "execution_count": null,
   "metadata": {},
   "outputs": [],
   "source": [
    "join_models = Join(red_model, green_model, blue_model) # Models are joined"
   ]
  },
  {
   "cell_type": "code",
   "execution_count": null,
   "metadata": {},
   "outputs": [],
   "source": [
    "join_models.get_weighted_average(test_generator, iterations=100, tolerance=1e-7) # Compute the weighted average"
   ]
  },
  {
   "cell_type": "code",
   "execution_count": null,
   "metadata": {},
   "outputs": [],
   "source": [
    "join_models.evaluate(test_generator, name=\"test_generator\") # Evaluate the weighted average"
   ]
  },
  {
   "cell_type": "markdown",
   "metadata": {},
   "source": [
    "### Grad-CAM\n",
    "An activation map of the predictions obtained by the convolutional network is displayed."
   ]
  },
  {
   "cell_type": "code",
   "execution_count": null,
   "metadata": {},
   "outputs": [],
   "source": [
    "# The activation map is displayed\n",
    "for index, image in data.test.iterrows():\n",
    "\tjoin_models.visualize_heatmap(image)"
   ]
  }
 ],
 "metadata": {
  "interpreter": {
   "hash": "a8beb786faeb05718f0030b63e3f9a213e4fc874985a90138c9f4beb79c05e3b"
  },
  "kernelspec": {
   "display_name": "Python 3.8.11 64-bit ('hinton': conda)",
   "name": "python3"
  },
  "language_info": {
   "codemirror_mode": {
    "name": "ipython",
    "version": 3
   },
   "file_extension": ".py",
   "mimetype": "text/x-python",
   "name": "python",
   "nbconvert_exporter": "python",
   "pygments_lexer": "ipython3",
   "version": "3.9.7"
  },
  "orig_nbformat": 4
 },
 "nbformat": 4,
 "nbformat_minor": 2
}
