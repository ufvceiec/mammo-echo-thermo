{
 "cells": [
  {
   "cell_type": "markdown",
   "source": [
    "# Thermography"
   ],
   "metadata": {}
  },
  {
   "cell_type": "markdown",
   "source": [
    "## Libraries"
   ],
   "metadata": {}
  },
  {
   "cell_type": "code",
   "execution_count": 271,
   "source": [
    "import os\r\n",
    "import pandas as pd\r\n",
    "\r\n",
    "from sklearn.model_selection import train_test_split"
   ],
   "outputs": [],
   "metadata": {}
  },
  {
   "cell_type": "markdown",
   "source": [
    "## Data selection"
   ],
   "metadata": {}
  },
  {
   "cell_type": "code",
   "execution_count": 272,
   "source": [
    "class Data:\r\n",
    "\tdef __init__(self, root):\r\n",
    "\t\tself.table = self.__generate_table(root)\r\n",
    "\t\tself.training, self.validation, self.test = None, None, None\r\n",
    "\r\n",
    "\tdef __generate_table(self, root):\r\n",
    "\t\tfiles = []\r\n",
    "\r\n",
    "\t\tfor category in os.listdir(root):\r\n",
    "\t\t\tfor filename in os.listdir(root + category):\r\n",
    "\t\t\t\tfiles.append([root + filename, category])\r\n",
    "\r\n",
    "\t\treturn pd.DataFrame(files, columns=[\"filename\", \"category\"])"
   ],
   "outputs": [],
   "metadata": {}
  },
  {
   "cell_type": "code",
   "execution_count": 273,
   "source": [
    "data = Data(\"./data/thermography/\")"
   ],
   "outputs": [],
   "metadata": {}
  },
  {
   "cell_type": "markdown",
   "source": [
    "## Preprocessing and transformation"
   ],
   "metadata": {}
  },
  {
   "cell_type": "code",
   "execution_count": 274,
   "source": [
    "data.table.category = data.table.category.factorize()[0]"
   ],
   "outputs": [],
   "metadata": {}
  },
  {
   "cell_type": "code",
   "execution_count": 275,
   "source": [
    "data.training, data.test = train_test_split(data.table, test_size=0.15, shuffle=True)"
   ],
   "outputs": [],
   "metadata": {}
  },
  {
   "cell_type": "code",
   "execution_count": 276,
   "source": [
    "print(f\"Raw: {data.table.category.value_counts().values}\")\r\n",
    "\r\n",
    "print(f\"Training: {data.training.category.value_counts().values}\")\r\n",
    "print(f\"Test: {data.test.category.value_counts().values}\")"
   ],
   "outputs": [
    {
     "output_type": "stream",
     "name": "stdout",
     "text": [
      "Raw: [99 96]\n",
      "Training: [84 81]\n",
      "Test: [15 15]\n"
     ]
    }
   ],
   "metadata": {}
  }
 ],
 "metadata": {
  "orig_nbformat": 4,
  "language_info": {
   "name": "python",
   "version": "3.8.11",
   "mimetype": "text/x-python",
   "codemirror_mode": {
    "name": "ipython",
    "version": 3
   },
   "pygments_lexer": "ipython3",
   "nbconvert_exporter": "python",
   "file_extension": ".py"
  },
  "kernelspec": {
   "name": "python3",
   "display_name": "Python 3.8.11 64-bit ('ceiec': conda)"
  },
  "interpreter": {
   "hash": "d98ed641ffb0afae769cd9f96943c7d5fe6ff4d949b5ee86e4a8c8a547fca37e"
  }
 },
 "nbformat": 4,
 "nbformat_minor": 2
}