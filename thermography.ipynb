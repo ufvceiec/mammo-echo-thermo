{
 "cells": [
  {
   "cell_type": "markdown",
   "source": [
    "# Thermography"
   ],
   "metadata": {}
  },
  {
   "cell_type": "markdown",
   "source": [
    "## Libraries"
   ],
   "metadata": {}
  },
  {
   "cell_type": "code",
   "execution_count": 479,
   "source": [
    "import os\r\n",
    "import pandas as pd\r\n",
    "\r\n",
    "from sklearn.model_selection import train_test_split\r\n",
    "from keras.preprocessing.image import ImageDataGenerator"
   ],
   "outputs": [],
   "metadata": {}
  },
  {
   "cell_type": "markdown",
   "source": [
    "## Data selection"
   ],
   "metadata": {}
  },
  {
   "cell_type": "code",
   "execution_count": 480,
   "source": [
    "class Data:\r\n",
    "\tdef __init__(self, root):\r\n",
    "\t\tself.table = self.__generate_table(root)\r\n",
    "\t\tself.training, self.validation, self.test = None, None, None\r\n",
    "\r\n",
    "\tdef __generate_table(self, root):\r\n",
    "\t\tfiles = []\r\n",
    "\r\n",
    "\t\tfor category in os.listdir(root):\r\n",
    "\t\t\tfor filename in os.listdir(root + category):\r\n",
    "\t\t\t\tfiles.append([root + category + \"/\" + filename, category])\r\n",
    "\r\n",
    "\t\treturn pd.DataFrame(files, columns=[\"filename\", \"category\"])"
   ],
   "outputs": [],
   "metadata": {}
  },
  {
   "cell_type": "code",
   "execution_count": 481,
   "source": [
    "data = Data(\"./data/thermography/\")"
   ],
   "outputs": [],
   "metadata": {}
  },
  {
   "cell_type": "code",
   "execution_count": 482,
   "source": [
    "data.table.head(1)"
   ],
   "outputs": [
    {
     "output_type": "execute_result",
     "data": {
      "text/html": [
       "<div>\n",
       "<style scoped>\n",
       "    .dataframe tbody tr th:only-of-type {\n",
       "        vertical-align: middle;\n",
       "    }\n",
       "\n",
       "    .dataframe tbody tr th {\n",
       "        vertical-align: top;\n",
       "    }\n",
       "\n",
       "    .dataframe thead th {\n",
       "        text-align: right;\n",
       "    }\n",
       "</style>\n",
       "<table border=\"1\" class=\"dataframe\">\n",
       "  <thead>\n",
       "    <tr style=\"text-align: right;\">\n",
       "      <th></th>\n",
       "      <th>filename</th>\n",
       "      <th>category</th>\n",
       "    </tr>\n",
       "  </thead>\n",
       "  <tbody>\n",
       "    <tr>\n",
       "      <th>0</th>\n",
       "      <td>./data/thermography/healthy/16-TFRON_V16_31-10...</td>\n",
       "      <td>healthy</td>\n",
       "    </tr>\n",
       "  </tbody>\n",
       "</table>\n",
       "</div>"
      ],
      "text/plain": [
       "                                            filename category\n",
       "0  ./data/thermography/healthy/16-TFRON_V16_31-10...  healthy"
      ]
     },
     "metadata": {},
     "execution_count": 482
    }
   ],
   "metadata": {}
  },
  {
   "cell_type": "markdown",
   "source": [
    "## Preprocessing and transformation"
   ],
   "metadata": {}
  },
  {
   "cell_type": "code",
   "execution_count": 483,
   "source": [
    "data.table.category = data.table.category.factorize()[0].astype(str)"
   ],
   "outputs": [],
   "metadata": {}
  },
  {
   "cell_type": "code",
   "execution_count": 484,
   "source": [
    "data.table.head(1)"
   ],
   "outputs": [
    {
     "output_type": "execute_result",
     "data": {
      "text/html": [
       "<div>\n",
       "<style scoped>\n",
       "    .dataframe tbody tr th:only-of-type {\n",
       "        vertical-align: middle;\n",
       "    }\n",
       "\n",
       "    .dataframe tbody tr th {\n",
       "        vertical-align: top;\n",
       "    }\n",
       "\n",
       "    .dataframe thead th {\n",
       "        text-align: right;\n",
       "    }\n",
       "</style>\n",
       "<table border=\"1\" class=\"dataframe\">\n",
       "  <thead>\n",
       "    <tr style=\"text-align: right;\">\n",
       "      <th></th>\n",
       "      <th>filename</th>\n",
       "      <th>category</th>\n",
       "    </tr>\n",
       "  </thead>\n",
       "  <tbody>\n",
       "    <tr>\n",
       "      <th>0</th>\n",
       "      <td>./data/thermography/healthy/16-TFRON_V16_31-10...</td>\n",
       "      <td>0</td>\n",
       "    </tr>\n",
       "  </tbody>\n",
       "</table>\n",
       "</div>"
      ],
      "text/plain": [
       "                                            filename category\n",
       "0  ./data/thermography/healthy/16-TFRON_V16_31-10...        0"
      ]
     },
     "metadata": {},
     "execution_count": 484
    }
   ],
   "metadata": {}
  },
  {
   "cell_type": "code",
   "execution_count": 485,
   "source": [
    "data.training, data.test = train_test_split(data.table, test_size=0.15, shuffle=True)"
   ],
   "outputs": [],
   "metadata": {}
  },
  {
   "cell_type": "code",
   "execution_count": 486,
   "source": [
    "print(f\"Raw: {data.table.category.value_counts().values}\")\r\n",
    "print(f\"Training: {data.training.category.value_counts().values}\")\r\n",
    "print(f\"Test: {data.test.category.value_counts().values}\")"
   ],
   "outputs": [
    {
     "output_type": "stream",
     "name": "stdout",
     "text": [
      "Raw: [99 96]\n",
      "Training: [83 82]\n",
      "Test: [16 14]\n"
     ]
    }
   ],
   "metadata": {}
  },
  {
   "cell_type": "code",
   "execution_count": 487,
   "source": [
    "train_datagen = ImageDataGenerator(\r\n",
    "\trescale=1./255,\r\n",
    "\tvalidation_split=0.2\r\n",
    ")\r\n",
    "\r\n",
    "test_datagen = ImageDataGenerator(\r\n",
    "    rescale=1./255\r\n",
    ")"
   ],
   "outputs": [],
   "metadata": {}
  },
  {
   "cell_type": "code",
   "execution_count": 488,
   "source": [
    "train_generator = train_datagen.flow_from_dataframe(\r\n",
    "\tdataframe=data.training,\r\n",
    "    x_col=\"filename\",\r\n",
    "    y_col=\"category\",\r\n",
    "    target_size=(538, 215),\r\n",
    "    batch_size=25,\r\n",
    "    class_mode=\"categorical\",\r\n",
    "    shuffle=True,\r\n",
    "    color_mode=\"rgb\",\r\n",
    "    subset=\"training\"\r\n",
    ")\r\n",
    "\r\n",
    "validation_generator = train_datagen.flow_from_dataframe(\r\n",
    "\tdataframe=data.training,\r\n",
    "    x_col=\"filename\",\r\n",
    "    y_col=\"category\",\r\n",
    "    target_size=(538, 215),\r\n",
    "    batch_size=25,\r\n",
    "    class_mode=\"categorical\",\r\n",
    "    shuffle=True,\r\n",
    "    color_mode=\"rgb\",\r\n",
    "    subset=\"validation\"\r\n",
    ")\r\n",
    "\r\n",
    "test_generator = test_datagen.flow_from_dataframe(\r\n",
    "    dataframe=data.test,\r\n",
    "    x_col=\"filename\",\r\n",
    "    y_col=\"category\",\r\n",
    "    target_size=(538, 215),\r\n",
    "    batch_size=1,\r\n",
    "    shuffle=False,\r\n",
    "    color_mode=\"rgb\",\r\n",
    "    class_mode=\"categorical\"\r\n",
    ")"
   ],
   "outputs": [
    {
     "output_type": "stream",
     "name": "stdout",
     "text": [
      "Found 132 validated image filenames belonging to 2 classes.\n",
      "Found 33 validated image filenames belonging to 2 classes.\n",
      "Found 30 validated image filenames belonging to 2 classes.\n"
     ]
    }
   ],
   "metadata": {}
  }
 ],
 "metadata": {
  "orig_nbformat": 4,
  "language_info": {
   "name": "python",
   "version": "3.8.11",
   "mimetype": "text/x-python",
   "codemirror_mode": {
    "name": "ipython",
    "version": 3
   },
   "pygments_lexer": "ipython3",
   "nbconvert_exporter": "python",
   "file_extension": ".py"
  },
  "kernelspec": {
   "name": "python3",
   "display_name": "Python 3.8.11 64-bit ('ceiec': conda)"
  },
  "interpreter": {
   "hash": "d98ed641ffb0afae769cd9f96943c7d5fe6ff4d949b5ee86e4a8c8a547fca37e"
  }
 },
 "nbformat": 4,
 "nbformat_minor": 2
}