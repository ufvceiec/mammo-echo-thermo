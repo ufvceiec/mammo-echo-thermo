{
 "cells": [
  {
   "cell_type": "markdown",
   "source": [
    "# Thermography"
   ],
   "metadata": {}
  },
  {
   "cell_type": "markdown",
   "source": [
    "## Libraries"
   ],
   "metadata": {}
  },
  {
   "cell_type": "code",
   "execution_count": null,
   "source": [
    "import os\r\n",
    "import pandas as pd\r\n",
    "import matplotlib.pyplot as plt\r\n",
    "\r\n",
    "from sklearn.model_selection import train_test_split\r\n",
    "from keras.preprocessing.image import ImageDataGenerator\r\n",
    "from keras.models import Sequential\r\n",
    "from keras.layers import Conv2D, MaxPooling2D, GlobalMaxPooling2D, Dropout, Dense\r\n",
    "from keras.losses import binary_crossentropy\r\n",
    "from keras.callbacks import ModelCheckpoint\r\n",
    "from tensorflow.keras.optimizers import Adam"
   ],
   "outputs": [],
   "metadata": {}
  },
  {
   "cell_type": "markdown",
   "source": [
    "## Data selection"
   ],
   "metadata": {}
  },
  {
   "cell_type": "code",
   "execution_count": null,
   "source": [
    "class Data:\r\n",
    "\tdef __init__(self, root):\r\n",
    "\t\tself.table = self.__generate_table(root)\r\n",
    "\t\tself.training, self.validation, self.test = None, None, None\r\n",
    "\r\n",
    "\tdef __generate_table(self, root):\r\n",
    "\t\tfiles = []\r\n",
    "\r\n",
    "\t\tfor category in os.listdir(root):\r\n",
    "\t\t\tfor filename in os.listdir(root + category):\r\n",
    "\t\t\t\tfiles.append([root + category + \"/\" + filename, category])\r\n",
    "\r\n",
    "\t\treturn pd.DataFrame(files, columns=[\"filename\", \"category\"])"
   ],
   "outputs": [],
   "metadata": {}
  },
  {
   "cell_type": "code",
   "execution_count": null,
   "source": [
    "data = Data(\"./data/thermography/\")"
   ],
   "outputs": [],
   "metadata": {}
  },
  {
   "cell_type": "code",
   "execution_count": null,
   "source": [
    "data.table.head(1)"
   ],
   "outputs": [],
   "metadata": {}
  },
  {
   "cell_type": "markdown",
   "source": [
    "## Preprocessing and transformation"
   ],
   "metadata": {}
  },
  {
   "cell_type": "code",
   "execution_count": null,
   "source": [
    "data.table.category = data.table.category.factorize()[0].astype(str)"
   ],
   "outputs": [],
   "metadata": {}
  },
  {
   "cell_type": "code",
   "execution_count": null,
   "source": [
    "data.table.head(1)"
   ],
   "outputs": [],
   "metadata": {}
  },
  {
   "cell_type": "code",
   "execution_count": null,
   "source": [
    "data.training, data.test = train_test_split(data.table, test_size=0.15, shuffle=True)"
   ],
   "outputs": [],
   "metadata": {}
  },
  {
   "cell_type": "code",
   "execution_count": null,
   "source": [
    "print(f\"Raw: {data.table.category.value_counts().values}\")\r\n",
    "print(f\"Training: {data.training.category.value_counts().values}\")\r\n",
    "print(f\"Test: {data.test.category.value_counts().values}\")"
   ],
   "outputs": [],
   "metadata": {}
  },
  {
   "cell_type": "code",
   "execution_count": null,
   "source": [
    "train_datagen = ImageDataGenerator(\r\n",
    "\trescale=1./255,\r\n",
    "\tvalidation_split=0.2\r\n",
    ")\r\n",
    "\r\n",
    "test_datagen = ImageDataGenerator(\r\n",
    "    rescale=1./255\r\n",
    ")"
   ],
   "outputs": [],
   "metadata": {}
  },
  {
   "cell_type": "code",
   "execution_count": null,
   "source": [
    "train_generator = train_datagen.flow_from_dataframe(\r\n",
    "\tdataframe=data.training,\r\n",
    "    x_col=\"filename\",\r\n",
    "    y_col=\"category\",\r\n",
    "    target_size=(215, 538),\r\n",
    "    batch_size=25,\r\n",
    "    class_mode=\"categorical\",\r\n",
    "    shuffle=True,\r\n",
    "    color_mode=\"rgb\",\r\n",
    "    subset=\"training\"\r\n",
    ")\r\n",
    "\r\n",
    "validation_generator = train_datagen.flow_from_dataframe(\r\n",
    "\tdataframe=data.training,\r\n",
    "    x_col=\"filename\",\r\n",
    "    y_col=\"category\",\r\n",
    "    target_size=(215, 538),\r\n",
    "    batch_size=25,\r\n",
    "    class_mode=\"categorical\",\r\n",
    "    shuffle=True,\r\n",
    "    color_mode=\"rgb\",\r\n",
    "    subset=\"validation\"\r\n",
    ")\r\n",
    "\r\n",
    "test_generator = test_datagen.flow_from_dataframe(\r\n",
    "    dataframe=data.test,\r\n",
    "    x_col=\"filename\",\r\n",
    "    y_col=\"category\",\r\n",
    "    target_size=(215, 538),\r\n",
    "    batch_size=1,\r\n",
    "    class_mode=\"categorical\",\r\n",
    "    shuffle=False,\r\n",
    "    color_mode=\"rgb\",\r\n",
    ")"
   ],
   "outputs": [],
   "metadata": {}
  },
  {
   "cell_type": "code",
   "execution_count": null,
   "source": [
    "fig, ax = plt.subplots(nrows=1, ncols=3)\r\n",
    "\r\n",
    "image, label = train_generator.next()\r\n",
    "\r\n",
    "for i in range(3):    \r\n",
    "    ax[i].imshow(image[i])\r\n",
    "    ax[i].title.set_text(str(label[i]))\r\n",
    "    ax[i].axis(\"off\")\r\n",
    "    \r\n",
    "plt.show()"
   ],
   "outputs": [],
   "metadata": {}
  },
  {
   "cell_type": "code",
   "execution_count": null,
   "source": [
    "model = Sequential()\r\n",
    "\r\n",
    "model.add(Conv2D(32, (3, 3), input_shape=(215, 538,  3), activation=\"relu\"))\r\n",
    "model.add(MaxPooling2D(pool_size=(2, 2)))\r\n",
    "\r\n",
    "model.add(Conv2D(32, (3, 3), activation=\"relu\"))\r\n",
    "model.add(GlobalMaxPooling2D())\r\n",
    "\r\n",
    "model.add(Dropout(rate=0.4))\r\n",
    "model.add(Dense(32, activation=\"relu\"))\r\n",
    "model.add(Dropout(rate=0.4))\r\n",
    "model.add(Dense(2, activation=\"softmax\"))\r\n",
    "\r\n",
    "model.summary()"
   ],
   "outputs": [],
   "metadata": {}
  },
  {
   "cell_type": "code",
   "execution_count": null,
   "source": [
    "model.compile(loss=binary_crossentropy, optimizer=Adam(learning_rate=0.0005), metrics=[\"accuracy\"])"
   ],
   "outputs": [],
   "metadata": {}
  },
  {
   "cell_type": "code",
   "execution_count": null,
   "source": [
    "with open(\"./model.json\", \"w\") as json_file:\r\n",
    "\tjson_file.write(model.to_json())"
   ],
   "outputs": [],
   "metadata": {}
  },
  {
   "cell_type": "code",
   "execution_count": null,
   "source": [
    "checkpoint = ModelCheckpoint(\"weights/weights-{epoch:02d}.hdf5\", monitor=\"val_accuracy\", verbose=1, save_best_only=False, mode=\"max\")"
   ],
   "outputs": [],
   "metadata": {}
  },
  {
   "cell_type": "code",
   "execution_count": null,
   "source": [
    "history = model.fit(train_generator, epochs=600, validation_data=validation_generator, callbacks=[checkpoint])"
   ],
   "outputs": [],
   "metadata": {}
  }
 ],
 "metadata": {
  "orig_nbformat": 4,
  "language_info": {
   "name": "python",
   "version": "3.8.11",
   "mimetype": "text/x-python",
   "codemirror_mode": {
    "name": "ipython",
    "version": 3
   },
   "pygments_lexer": "ipython3",
   "nbconvert_exporter": "python",
   "file_extension": ".py"
  },
  "kernelspec": {
   "name": "python3",
   "display_name": "Python 3.8.11 64-bit ('ceiec': conda)"
  },
  "interpreter": {
   "hash": "d98ed641ffb0afae769cd9f96943c7d5fe6ff4d949b5ee86e4a8c8a547fca37e"
  }
 },
 "nbformat": 4,
 "nbformat_minor": 2
}